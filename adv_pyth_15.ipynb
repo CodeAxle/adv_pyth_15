{
 "cells": [
  {
   "cell_type": "markdown",
   "id": "fc4fb0c5",
   "metadata": {},
   "source": [
    "# 1."
   ]
  },
  {
   "cell_type": "code",
   "execution_count": 3,
   "id": "21423b9d",
   "metadata": {},
   "outputs": [
    {
     "name": "stdout",
     "output_type": "stream",
     "text": [
      "Name is too long\n",
      "Name is too long (14 characters)\n"
     ]
    }
   ],
   "source": [
    "# Python 3.8 introduced several new features, improvements, and optimizations.\n",
    "\n",
    "# Some of the key features added in Python 3.8 include:\n",
    "\n",
    "# a) Assignment Expressions (the Walrus Operator :=): This operator allows assignment within an expression. It assigns a value \n",
    "#     to a variable as part of an expression, typically used in while loops and list comprehensions to eliminate repetition and\n",
    "#     improve readability.\n",
    "\n",
    "# example:\n",
    "# Before Python 3.8\n",
    "name = 'Characteristic'\n",
    "if len(name) > 10:\n",
    "    print(\"Name is too long\")\n",
    "\n",
    "# In Python 3.8\n",
    "if (n := len(name)) > 10:\n",
    "    print(f\"Name is too long ({n} characters)\")"
   ]
  },
  {
   "cell_type": "code",
   "execution_count": 4,
   "id": "d7575da3",
   "metadata": {},
   "outputs": [],
   "source": [
    "# b) Positional-only Parameters: Functions can now specify parameters that can only be passed positionally and not as keyword \n",
    "#     arguments, enhancing clarity and avoiding potential confusion in function calls.\n",
    "\n",
    "# example:\n",
    "def my_func(a, b, /, c, d, *, e, f):\n",
    "    print(a, b, c, d, e, f)"
   ]
  },
  {
   "cell_type": "code",
   "execution_count": 5,
   "id": "95bcc2af",
   "metadata": {},
   "outputs": [
    {
     "name": "stdout",
     "output_type": "stream",
     "text": [
      "name = 'Alice'\n"
     ]
    }
   ],
   "source": [
    "# c) f-strings Support ' = ' for Self-documenting Expressions: f-strings now support an equal sign (=) to help with debugging and \n",
    "#     self-documentation by displaying both the expression and its value.\n",
    "\n",
    "# example:\n",
    "name = \"Alice\"\n",
    "print(f\"{name = }\")\n",
    "# Output: name = 'Alice'"
   ]
  },
  {
   "cell_type": "code",
   "execution_count": 6,
   "id": "b18c1602",
   "metadata": {},
   "outputs": [
    {
     "name": "stdout",
     "output_type": "stream",
     "text": [
      "24\n"
     ]
    }
   ],
   "source": [
    "# The math.prod() Function: This function returns the product of all elements in an iterable, such as a list or tuple.\n",
    "\n",
    "# example:\n",
    "import math\n",
    "result = math.prod([2, 3, 4])\n",
    "print(result)  # Output: 24"
   ]
  },
  {
   "cell_type": "markdown",
   "id": "1d2e690f",
   "metadata": {},
   "source": [
    "# 2."
   ]
  },
  {
   "cell_type": "code",
   "execution_count": 8,
   "id": "ec66fd56",
   "metadata": {},
   "outputs": [
    {
     "name": "stdout",
     "output_type": "stream",
     "text": [
      "Patched method\n"
     ]
    }
   ],
   "source": [
    "# Monkey patching in Python refers to the practice of modifying or extending code at runtime, typically by changing attributes \n",
    "# or methods of classes or modules. It allows developers to alter the behavior of existing code without modifying its original\n",
    "# source code.\n",
    "\n",
    "# example:\n",
    "class MyClass:\n",
    "    def my_method(self):\n",
    "        return \"Original method\"\n",
    "\n",
    "def patched_method(self):\n",
    "    return \"Patched method\"\n",
    "\n",
    "# Monkey patching MyClass by replacing my_method with patched_method\n",
    "MyClass.my_method = patched_method\n",
    "\n",
    "# Creating an instance of MyClass\n",
    "obj = MyClass()\n",
    "\n",
    "# Calling the patched method\n",
    "print(obj.my_method())  # Output: Patched method"
   ]
  },
  {
   "cell_type": "markdown",
   "id": "7074eb33",
   "metadata": {},
   "source": [
    "# 3."
   ]
  },
  {
   "cell_type": "code",
   "execution_count": 10,
   "id": "7493db04",
   "metadata": {},
   "outputs": [
    {
     "name": "stdout",
     "output_type": "stream",
     "text": [
      "[['X', 2, 3], [4, 5, 6]]\n",
      "[['X', 2, 3], [4, 5, 6]]\n"
     ]
    }
   ],
   "source": [
    "# The difference between a shallow copy and a deep copy:\n",
    "\n",
    "# a) Shallow Copy:\n",
    "\n",
    "# 1. A shallow copy creates a new object but does not create copies of nested objects within the original object.\n",
    "# 2. It copies the top-level structure of the object, including its references to nested objects.\n",
    "# 3. Changes made to the nested objects in either the original or the shallow copy will affect both, as they point to the \n",
    "#     same objects.\n",
    "# 4. Shallow copies are typically created using methods like copy() or [:] slicing for lists.\n",
    "\n",
    "# example:\n",
    "import copy\n",
    "\n",
    "original_list = [[1, 2, 3], [4, 5, 6]]\n",
    "shallow_copy = copy.copy(original_list)\n",
    "\n",
    "# Modify the nested list in the original\n",
    "original_list[0][0] = 'X'\n",
    "\n",
    "print(original_list)   # Output: [['X', 2, 3], [4, 5, 6]]\n",
    "print(shallow_copy)     # Output: [['X', 2, 3], [4, 5, 6]]"
   ]
  },
  {
   "cell_type": "code",
   "execution_count": 11,
   "id": "16ea7dec",
   "metadata": {},
   "outputs": [
    {
     "name": "stdout",
     "output_type": "stream",
     "text": [
      "[['X', 2, 3], [4, 5, 6]]\n",
      "[[1, 2, 3], [4, 5, 6]]\n"
     ]
    }
   ],
   "source": [
    "# b) Deep Copy:\n",
    "\n",
    "# 1. A deep copy creates a completely new and independent object, including copies of all nested objects within the original \n",
    "#     object.\n",
    "# 2. It recursively copies all objects referenced by the original object, creating distinct copies for each nested object.\n",
    "# 3. Changes made to the nested objects in either the original or the deep copy do not affect each other, as they are separate \n",
    "#     copies.\n",
    "# 4. Deep copies are typically created using the deepcopy() function from the copy module.\n",
    "\n",
    "# example:\n",
    "import copy\n",
    "\n",
    "original_list = [[1, 2, 3], [4, 5, 6]]\n",
    "deep_copy = copy.deepcopy(original_list)\n",
    "\n",
    "# Modify the nested list in the original\n",
    "original_list[0][0] = 'X'\n",
    "\n",
    "print(original_list)   # Output: [['X', 2, 3], [4, 5, 6]]\n",
    "print(deep_copy)        # Output: [[1, 2, 3], [4, 5, 6]]"
   ]
  },
  {
   "cell_type": "markdown",
   "id": "5fbb4629",
   "metadata": {},
   "source": [
    "# 4."
   ]
  },
  {
   "cell_type": "code",
   "execution_count": 12,
   "id": "7f0bf3c3",
   "metadata": {},
   "outputs": [],
   "source": [
    "# In Python, the maximum possible length of an identifier is not explicitly defined by a fixed number of characters. Instead, \n",
    "# Python allows identifiers to be of any length, theoretically limited only by available memory and system resources.\n",
    "\n",
    "# However, it's essential to consider practical limitations and best practices when naming identifiers:\n",
    "\n",
    "# a) Readability: Descriptive and meaningful names are essential for code readability. While Python allows long identifiers, \n",
    "#     excessively long names can make code harder to read and maintain.\n",
    "\n",
    "# b) PEP 8 Guidelines: Python's PEP 8 style guide recommends limiting lines to a maximum of 79 characters, including indentation.\n",
    "#     This guideline indirectly suggests that identifiers should not be excessively long to ensure code readability.\n",
    "\n",
    "# c) Convention: Follow Python naming conventions to make your code more consistent with other Python codebases. For instance, \n",
    "#     variable and function names should be lowercase with words separated by underscores (snake_case), while class names should\n",
    "#     use CamelCase.\n",
    "\n",
    "# example:\n",
    "# Good naming practice\n",
    "total_items_in_cart = 100\n",
    "max_allowed_users = 500\n",
    "\n",
    "class CustomerDatabase:\n",
    "    def __init__(self, name):\n",
    "        self.name = name"
   ]
  },
  {
   "cell_type": "markdown",
   "id": "a0cd2917",
   "metadata": {},
   "source": [
    "# 5."
   ]
  },
  {
   "cell_type": "code",
   "execution_count": 13,
   "id": "932cc9b0",
   "metadata": {},
   "outputs": [
    {
     "name": "stdout",
     "output_type": "stream",
     "text": [
      "[0, 1, 4, 9, 16]\n",
      "<generator object <genexpr> at 0x0000023EBC906DC0>\n"
     ]
    }
   ],
   "source": [
    "# Generator comprehension is a concise way to create a generator object in Python, similar to list comprehensions but with the\n",
    "# key difference that generator comprehensions produce elements lazily, only when requested. This lazy evaluation makes them\n",
    "# memory efficient, especially when dealing with large datasets.\n",
    "\n",
    "# example:\n",
    "# List comprehension\n",
    "list_comprehension = [x ** 2 for x in range(5)]\n",
    "\n",
    "# Generator comprehension\n",
    "generator_expression = (x ** 2 for x in range(5))\n",
    "\n",
    "print(list_comprehension)  # Output: [0, 1, 4, 9, 16]\n",
    "print(generator_expression)  # Output: <generator object <genexpr> at 0x7f16a7f68d60>"
   ]
  },
  {
   "cell_type": "code",
   "execution_count": null,
   "id": "329b5623",
   "metadata": {},
   "outputs": [],
   "source": []
  }
 ],
 "metadata": {
  "kernelspec": {
   "display_name": "Python 3 (ipykernel)",
   "language": "python",
   "name": "python3"
  },
  "language_info": {
   "codemirror_mode": {
    "name": "ipython",
    "version": 3
   },
   "file_extension": ".py",
   "mimetype": "text/x-python",
   "name": "python",
   "nbconvert_exporter": "python",
   "pygments_lexer": "ipython3",
   "version": "3.11.5"
  }
 },
 "nbformat": 4,
 "nbformat_minor": 5
}
